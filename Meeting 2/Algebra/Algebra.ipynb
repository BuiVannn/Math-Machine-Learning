{
 "cells": [
  {
   "cell_type": "markdown",
   "metadata": {},
   "source": [
    "# 1.Đại số tuyến tính"
   ]
  },
  {
   "cell_type": "markdown",
   "metadata": {},
   "source": [
    "## 1.1 Số vô hướng\n",
    "- Số vô hướng: hằng số có 1 giá trị cụ thể\n",
    "- Biến số: biến x, y,... có thể nhận nhiều giá trị\n",
    "- VD: y = a*x + b"
   ]
  },
  {
   "cell_type": "code",
   "execution_count": 2,
   "metadata": {},
   "outputs": [],
   "source": [
    "import  numpy as np\n",
    "import matplotlib.pyplot as plt\n",
    "\n",
    "a = np.array(20)\n",
    "b = np.array(200)\n"
   ]
  },
  {
   "cell_type": "markdown",
   "metadata": {},
   "source": [
    "## 1.2 Vector\n",
    "- Là tập hợp nhiều giá trị số vô hướng\n",
    "- Biểu diễn đại lượng cụ thể (VD: diện tích nhà, số phòng ngủ)\n",
    "- Khởi tạo bằng torch.tensor([...])\n",
    "- Hoặc np.aray([...])"
   ]
  },
  {
   "cell_type": "code",
   "execution_count": 3,
   "metadata": {},
   "outputs": [],
   "source": [
    "#numpy\n",
    "x = np.array([1, 1.2, 1.5, 1.8, 2])\n",
    "y = np.array([3.1, 4.3, 1.8, 2.3, 5])\n",
    "#tensor\n",
    "# x = torch.tensor([1, 1.2, 1.5, 1.8, 2])"
   ]
  },
  {
   "cell_type": "markdown",
   "metadata": {},
   "source": [
    "- Các thuộc tính cơ bản"
   ]
  },
  {
   "cell_type": "code",
   "execution_count": 4,
   "metadata": {},
   "outputs": [
    {
     "name": "stdout",
     "output_type": "stream",
     "text": [
      "length of vector:  (5,)\n",
      "vector type:  float64\n",
      "sum of vector:  7.5\n",
      "mean of vector:  1.5\n",
      "min of vector:  1.0\n",
      "max of vector:  2.0\n"
     ]
    }
   ],
   "source": [
    "# Độ dài\n",
    "print(\"length of vector: \", x.shape) # or len(x)\n",
    "\n",
    "# Định dạng của véc tơ\n",
    "print(\"vector type: \", x.dtype)\n",
    "\n",
    "# Tổng của các phần tử \n",
    "print(\"sum of vector: \", x.sum())\n",
    "\n",
    "# Trung bình các phần tử\n",
    "print(\"mean of vector: \", x.mean())\n",
    "\n",
    "# Giá trị nhỏ nhất\n",
    "print(\"min of vector: \", x.min())\n",
    "\n",
    "# Giá trị lớn nhất\n",
    "print(\"max of vector: \", x.max())"
   ]
  },
  {
   "cell_type": "markdown",
   "metadata": {},
   "source": [
    "- Các phép tính"
   ]
  },
  {
   "cell_type": "code",
   "execution_count": 5,
   "metadata": {},
   "outputs": [
    {
     "name": "stdout",
     "output_type": "stream",
     "text": [
      "[4.1 5.5 3.3 4.1 7. ]\n",
      "[-2.1 -3.1 -0.3 -0.5 -3. ]\n",
      "[ 3.1   5.16  2.7   4.14 10.  ]\n",
      "[0.32258065 0.27906977 0.83333333 0.7826087  0.4       ]\n",
      "[6.  6.2 6.5 6.8 7. ]\n",
      "[-4.  -3.8 -3.5 -3.2 -3. ]\n",
      "[2.  2.4 3.  3.6 4. ]\n"
     ]
    }
   ],
   "source": [
    "x = np.array([1, 1.2, 1.5, 1.8, 2])\n",
    "y = np.array([3.1, 4.3, 1.8, 2.3, 5])\n",
    "#Hai vector cung do dai\n",
    "print(x+y)\n",
    "print(x-y)\n",
    "print(x*y)\n",
    "print(x/y)\n",
    "#Vector voi mot so vo huong\n",
    "print(x+5)\n",
    "print(x-5)\n",
    "print(x*2)\n"
   ]
  },
  {
   "cell_type": "markdown",
   "metadata": {},
   "source": [
    "## 1.3 Ma trận"
   ]
  },
  {
   "cell_type": "markdown",
   "metadata": {},
   "source": [
    "- Là mảng gồm nhiều vector, mõio vector ứng với một hàng\n",
    "- A[i][j] là phần tử hàng i, cột j"
   ]
  },
  {
   "cell_type": "markdown",
   "metadata": {},
   "source": [
    "### 1.3.1 Các ma trận đặc biệt"
   ]
  },
  {
   "cell_type": "markdown",
   "metadata": {},
   "source": [
    "- Ma trận vuông: số hàng = số cột, khi tìm nghiệm, từ ma trận vuông -> chuyển sang ma trận tam giác, tính được định thức\n",
    "- Ma trận đơn vị: ma trận vuông có đường chéo chính = 1, còn lại = 0\n",
    "- Ma trận chuyển vị: B là chuyển vị của A khi cột của A ứng với hàng của B"
   ]
  },
  {
   "cell_type": "markdown",
   "metadata": {},
   "source": [
    "### 1.3.2 Các thuộc tính của ma trận"
   ]
  },
  {
   "cell_type": "code",
   "execution_count": 6,
   "metadata": {},
   "outputs": [
    {
     "data": {
      "text/plain": [
       "(2, 3)"
      ]
     },
     "execution_count": 6,
     "metadata": {},
     "output_type": "execute_result"
    }
   ],
   "source": [
    "import numpy as np\n",
    "A = np.array([[1, 2, 3], \n",
    "              [3, 2, 1]])\n",
    "\n",
    "# shape của matrix A\n",
    "A.shape"
   ]
  },
  {
   "cell_type": "markdown",
   "metadata": {},
   "source": [
    "### 1.3.3 Các phép tính trên ma trận"
   ]
  },
  {
   "cell_type": "code",
   "execution_count": 9,
   "metadata": {},
   "outputs": [
    {
     "data": {
      "text/plain": [
       "array([[2, 2, 6],\n",
       "       [3, 6, 0]])"
      ]
     },
     "execution_count": 9,
     "metadata": {},
     "output_type": "execute_result"
    }
   ],
   "source": [
    "import numpy as np\n",
    "A = np.array([[1, 2, 3], \n",
    "              [3, 2, 1]])\n",
    "\n",
    "B = np.array([[2, 1, 2], \n",
    "             [1, 3, 0]])\n",
    "\n",
    "A+B     #Cộng ma trận\n",
    "A-B     #Trừ ma trận\n",
    "A*B     #Tích Hadamard (nhân từng phần tử)\n",
    "# A@B     #Tích ma trận thường"
   ]
  },
  {
   "cell_type": "markdown",
   "metadata": {},
   "source": [
    "### 1.3.4 Ma trận nghịch đảo\n",
    "- Ma trận vuông B là ma trận nghịch đảo của A <=> A.B = I\n",
    "- Khi đó: A khả nghịch (không suy biến); B (hay A^-1) là ma trận nghịch đảo của A\n",
    "- Nếu AB = I thì: det(AB)=det(I) <-> det(A).det(B)=1\n",
    "- det là định thức => tính khả nghịch của ma trận"
   ]
  },
  {
   "cell_type": "markdown",
   "metadata": {},
   "source": [
    "### 1.3.5 Truy cập thành phần\n",
    "- :n    => n index đầu tiên\n",
    "- -n:   => n index cuối cùng\n",
    "- i:j   => index từ i đến j-1\n",
    "- ::k   => các index cách nhau k (chia hết cho k)\n",
    "- :     => toàn bộ index"
   ]
  },
  {
   "cell_type": "code",
   "execution_count": 16,
   "metadata": {},
   "outputs": [
    {
     "name": "stdout",
     "output_type": "stream",
     "text": [
      "[5 6]\n",
      "[[1 2 3]\n",
      " [7 8 9]]\n"
     ]
    }
   ],
   "source": [
    "#VD truy cập vector con dòng 1 và 2 cột cuối cùng\n",
    "A = np.array([[1,2,3],\n",
    "              [4,5,6],\n",
    "              [7,8,9]])\n",
    "print(A[1, -2:])\n",
    "\n",
    "#Truy cập dòng cụ thể\n",
    "print(A[[0,2], :])"
   ]
  },
  {
   "cell_type": "markdown",
   "metadata": {},
   "source": [
    "## 1.4 Tensor"
   ]
  },
  {
   "cell_type": "markdown",
   "metadata": {},
   "source": [
    "### 1.4.1 **Tóm tắt về Tensor:**\n",
    "\n",
    "1. **Định nghĩa:**\n",
    "- Là định dạng đặc biệt do Google sáng tạo\n",
    "- Tổng quát hơn ma trận, có thể biểu diễn không gian nhiều chiều\n",
    "\n",
    "2. **Ứng dụng trong xử lý ảnh:**\n",
    "- Kích thước ảnh: W × H × C\n",
    "  - W: width (chiều rộng)\n",
    "  - H: height (chiều cao) \n",
    "  - C: channels (kênh màu)\n",
    "    - C = 1: ảnh xám\n",
    "    - C = 3: ảnh màu RGB\n",
    "\n",
    "3. **Trong huấn luyện mô hình:**\n",
    "- Thêm chiều batch_size (N)\n",
    "- Kích thước input: N × W × H × C\n",
    "  - N: số lượng ảnh trong một mini-batch\n",
    "  - W: chiều rộng\n",
    "  - H: chiều cao\n",
    "  - C: số kênh màu"
   ]
  },
  {
   "cell_type": "code",
   "execution_count": 19,
   "metadata": {},
   "outputs": [
    {
     "name": "stdout",
     "output_type": "stream",
     "text": [
      "shape of A:  (2, 2, 3)\n",
      "total dim:  3\n",
      "dtype:  int64\n"
     ]
    }
   ],
   "source": [
    "# 1. Khởi tạo array 3 chiều\n",
    "A = np.array([[[1, 2, 3], \n",
    "              [3, 2, 1]],\n",
    "              [[2, 1, 2], \n",
    "              [1, 3, 0]]])\n",
    "\n",
    "A[0] = [[1, 2, 3],   # Ma trận thứ nhất\n",
    "        [3, 2, 1]]\n",
    "\n",
    "A[1] = [[2, 1, 2],   # Ma trận thứ hai\n",
    "        [1, 3, 0]]\n",
    "\n",
    "# 2. Kiểm tra kích thước\n",
    "print(\"shape of A: \", A.shape)  # Output: (2, 2, 3)\n",
    "# Giải thích shape (2, 2, 3):\n",
    "# - Chiều 0: 2 ma trận\n",
    "# - Chiều 1: mỗi ma trận có 2 dòng\n",
    "# - Chiều 2: mỗi dòng có 3 cột\n",
    "\n",
    "# 3. Số chiều của array\n",
    "print(\"total dim: \", A.ndim)  # Output: 3\n",
    "# Giải thích ndim = 3:\n",
    "# - Array có 3 chiều: [ma trận][dòng][cột]\n",
    "\n",
    "# 4. Kiểu dữ liệu\n",
    "print(\"dtype: \", A.dtype)  # Output: int64\n",
    "# Giải thích dtype:\n",
    "# - Các phần tử trong array là số nguyên\n",
    "# - int64: số nguyên 64-bit"
   ]
  },
  {
   "cell_type": "markdown",
   "metadata": {},
   "source": [
    "### 1.4.2 **Tóm tắt về Phép tính và Truy cập Tensor:**\n",
    "\n",
    "1. **Phép tính giữa Tensors:**\n",
    "- Tích thông thường (@):\n",
    "  - A[m,n,p] @ B[n,p,q] = C[m,n,q]\n",
    "  - Sử dụng ký hiệu: A @ B\n",
    "\n",
    "- Tích Hadamard (*):\n",
    "  - Tensors phải cùng kích thước\n",
    "  - Nhân từng phần tử tương ứng\n",
    "  - Sử dụng ký hiệu: A * B\n",
    "\n",
    "- Phép cộng/trừ (+/-):\n",
    "  - Tensors phải cùng kích thước\n",
    "  - Cộng/trừ từng phần tử tương ứng\n",
    "\n",
    "2. **Truy cập phần tử:**\n",
    "- Cú pháp: A[i,j,k] hoặc A[i][j][k]\n",
    "  - i: chỉ số chiều thứ nhất\n",
    "  - j: chỉ số chiều thứ hai\n",
    "  - k: chỉ số chiều thứ ba\n",
    "\n",
    "- Ví dụ truy cập:\n",
    "  - A[:1, :, :] : ma trận đầu tiên\n",
    "  - A[0][1:3, :] : dòng 1-2 của ma trận đầu\n",
    "  - A[:1, :2, 3] : phần tử cụ thể theo 3 chiều"
   ]
  },
  {
   "cell_type": "code",
   "execution_count": 22,
   "metadata": {},
   "outputs": [
    {
     "name": "stdout",
     "output_type": "stream",
     "text": [
      "Shape của C: (2, 2, 2)\n",
      "\n",
      "Kết quả C:\n",
      "[[[ 22  28]\n",
      "  [ 49  64]]\n",
      "\n",
      " [[220 244]\n",
      "  [301 334]]]\n"
     ]
    }
   ],
   "source": [
    "import numpy as np\n",
    "\n",
    "# Tạo ma trận A(2,2,3)\n",
    "# 2: Số lớp ma trận\n",
    "# 2: Số hàng trong 1 lớp ma trận\n",
    "# 3: Số cột trong một lớp ma trận\n",
    "A = np.array([[[1, 2, 3],\n",
    "               [4, 5, 6]],\n",
    "              \n",
    "              [[7, 8, 9],\n",
    "               [10, 11, 12]]])\n",
    "\n",
    "# Tạo ma trận B(2,3,2) để có thể nhân với A\n",
    "B = np.array([[[1, 2],\n",
    "               [3, 4],\n",
    "               [5, 6]],\n",
    "              \n",
    "              [[7, 8],\n",
    "               [9, 10],\n",
    "               [11, 12]]])\n",
    "\n",
    "# Tích A @ B\n",
    "C = A @ B\n",
    "print(\"Shape của C:\", C.shape)  #(2,2,2)\n",
    "print(\"\\nKết quả C:\")           #2lop@2lop => 2\n",
    "print(C)                        #[2,3]@[3,2] => [2,2]"
   ]
  },
  {
   "cell_type": "markdown",
   "metadata": {},
   "source": [
    "## 1.5 Tích ma trận với vector"
   ]
  },
  {
   "cell_type": "markdown",
   "metadata": {},
   "source": [
    "**Tích giữa Ma trận và Véc tơ:**\n",
    "\n",
    "1. **Định nghĩa:**\n",
    "- Là phép biến hình từ không gian n chiều sang m chiều\n",
    "- Ma trận A ∈ ℝᵐˣⁿ, véc tơ x ∈ ℝⁿ\n",
    "- Kết quả y = Ax ∈ ℝᵐ\n",
    "\n",
    "2. **Công thức:**\n",
    "Ax = [a₁ᵀ]    [a₁ᵀx]   [y₁]\n",
    "     [a₂ᵀ] x = [a₂ᵀx] = [y₂] = y\n",
    "     [...]    [...]    [...]\n",
    "     [aₘᵀ]    [aₘᵀx]   [yₘ]\n",
    "\n",
    "3. **Ứng dụng:**\n",
    "- Machine Learning: Giảm chiều dữ liệu trong fully connected layers\n",
    "- Phân tích suy biến (singular decomposition)\n",
    "- Phép xoay (rotation) trong không gian\n",
    "- Hồi qui tuyến tính: y = Xᵀw\n",
    "\n",
    "4. **Ví dụ trong Python:**"
   ]
  },
  {
   "cell_type": "code",
   "execution_count": 24,
   "metadata": {},
   "outputs": [
    {
     "name": "stdout",
     "output_type": "stream",
     "text": [
      "\n",
      "Kết quả y = Ax:\n",
      " [[14]\n",
      " [32]]\n",
      "Shape của y: (2, 1)\n"
     ]
    }
   ],
   "source": [
    "import numpy as np\n",
    "\n",
    "# 1. Tạo ma trận A (2x3)\n",
    "A = np.array([[1, 2, 3],\n",
    "              [4, 5, 6]])\n",
    "\n",
    "# 2. Tạo véc tơ x (3x1)\n",
    "x = np.array([[1],\n",
    "              [2],\n",
    "              [3]])\n",
    "\n",
    "# 3. Tính tích Ax\n",
    "y = A @ x\n",
    "print(\"\\nKết quả y = Ax:\\n\", y)\n",
    "print(\"Shape của y:\", y.shape)  # (2,1)"
   ]
  },
  {
   "cell_type": "markdown",
   "metadata": {},
   "source": [
    "## 1.6 Tích vô hướng"
   ]
  },
  {
   "cell_type": "markdown",
   "metadata": {},
   "source": [
    "**Tích Vô Hướng (Inner Product):**\n",
    "\n",
    "1. **Định nghĩa:**\n",
    "- Tích vô hướng giữa hai véc tơ x, y ∈ ℝᵈ\n",
    "- Ký hiệu: ⟨x,y⟩ hoặc xᵀy\n",
    "- Công thức: ⟨x,y⟩ = Σᵢ₌₁ᵈ xᵢyᵢ\n",
    "\n",
    "2. **Cách tính trong Python:**\n",
    "- x.dot(y)\n",
    "\n",
    "3. **Ứng dụng:**\n",
    "- Hồi qui tuyến tính: \n",
    "  - y = 20x₁ + 10x₂ + 200\n",
    "  - ŷ = xᵀw với w = (20, 10, 200)\n",
    "\n",
    "- Tính trung bình có trọng số:\n",
    "  - x̄ = Σᵢ₌₁ⁿ xᵢqᵢ = xᵀq\n",
    "  - với Σᵢ₌₁ⁿ qᵢ = 1\n",
    "\n",
    "- Tính cos giữa hai véc tơ:\n",
    "  - cos(x,y) = ⟨x,y⟩/(||x||₂||y||₂)\n",
    "  - ||x||₂: norm chuẩn bậc 2"
   ]
  },
  {
   "cell_type": "markdown",
   "metadata": {},
   "source": [
    "**Norm Chuẩn (Vector Norm):**\n",
    "\n",
    "1. **Định nghĩa:**\n",
    "- Là độ đo độ lớn (magnitude) của véc tơ\n",
    "- Thường dùng nhất là norm chuẩn bậc 2 (L2 norm)\n",
    "- Ký hiệu: ||x||₂ hoặc ||x||\n",
    "\n",
    "2. **Các loại norm phổ biến:**\n",
    "- L1 norm: ||x||₁ = Σ|xᵢ| (tổng giá trị tuyệt đối)\n",
    "- L2 norm: ||x||₂ = √(Σxᵢ²) (căn bậc 2 tổng bình phương)\n",
    "- L∞ norm: ||x||∞ = max|xᵢ| (giá trị tuyệt đối lớn nhất)"
   ]
  },
  {
   "cell_type": "markdown",
   "metadata": {},
   "source": [
    "**Một hàm f(x) được gọi là chuẩn nếu thỏa mãn 3 tính chất:**\n",
    "- Tính chất scale: α f(x) = f(αx)\n",
    "- Bất đẳng thức tam giác: f(x + y) ≤ f(x) + f(y)\n",
    "- Tính chất không âm: f(x) ≥ 0"
   ]
  },
  {
   "cell_type": "markdown",
   "metadata": {},
   "source": [
    "## 1.8 Định thức và các tính chất của định thức"
   ]
  },
  {
   "cell_type": "markdown",
   "metadata": {},
   "source": [
    "**1. Định nghĩa:**\n",
    "- Định thức của ma trận vuông A được ký hiệu là |A| hoặc det(A)\n",
    "- Công thức: det(A) = Σ(sgn(σ)a₁σ₁a₂σ₂...aₙσₙ)\n",
    "  (σ là hoán vị của n số tự nhiên đầu tiên)\n",
    "\n",
    "**2. Các tính chất cơ bản:**\n",
    "- Chỉ tồn tại với ma trận vuông\n",
    "- det(A) = det(Aᵀ) \n",
    "- det(I) = 1\n",
    "- Ma trận đường chéo: det = tích các phần tử trên đường chéo\n",
    "- det(AB) = det(A)det(B)\n",
    "- det(A⁻¹) = 1/det(A) với A khả nghịch\n",
    "- det = 0 nếu có một dòng/cột toàn 0\n",
    "- Đổi vị trí 2 dòng/cột thì det đổi dấu\n",
    "- Cộng vào một dòng/cột tích của dòng/cột khác thì det không đổi\n",
    "- det(αA) = αⁿdet(A) với A là ma trận nxn\n",
    "\n",
    "**3. Ý nghĩa:**\n",
    "- Xác định tính khả nghịch của ma trận\n",
    "- Giải hệ phương trình tuyến tính\n",
    "- Kiểm tra tính độc lập tuyến tính của hệ véc tơ"
   ]
  },
  {
   "cell_type": "markdown",
   "metadata": {},
   "source": [
    "## 1.9 Tổ hợp tuyến tính và không gian sinh\n",
    "\n",
    "**1. Định nghĩa:**\n",
    "- Cho n véc tơ a₁, a₂,..., aₙ ∈ ℝᵐ\n",
    "- Cho n hệ số k₁, k₂,..., kₙ là số vô hướng\n",
    "- Tổ hợp tuyến tính là véc tơ: k₁a₁ + k₂a₂ + ... + kₙaₙ = b\n",
    "\n",
    "**2. Biểu diễn dưới dạng ma trận:**\n",
    "- A = [a₁, a₂..., aₙ] ∈ ℝᵐˣⁿ (ma trận có cột là các véc tơ aᵢ)\n",
    "- k = [k₁, k₂,..., kₙ]ᵀ (véc tơ hệ số)\n",
    "- Tổ hợp tuyến tính: Ak = b\n",
    "\n",
    "**3. Ý nghĩa:**\n",
    "- Biểu diễn một véc tơ b thông qua tổ hợp các véc tơ cơ sở\n",
    "- Nền tảng cho không gian véc tơ và không gian sinh\n",
    "- Ứng dụng trong giải hệ phương trình tuyến tính"
   ]
  },
  {
   "cell_type": "markdown",
   "metadata": {},
   "source": [
    "## 1.10 Cơ sở của một không gian (Basic)\n",
    "\n",
    "**1. Định nghĩa:**\n",
    "- Hệ véc tơ {a₁, a₂,..., aₙ} trong không gian véc tơ V = ℝᵐ\n",
    "- Được gọi là cơ sở (basis) khi thỏa mãn 2 điều kiện:\n",
    "  - V trùng span(a₁,..., aₙ) (không gian sinh)\n",
    "  - Hệ véc tơ a₁, a₂,..., aₙ độc lập tuyến tính\n",
    "\n",
    "**3. Tính chất:**\n",
    "- Mọi véc tơ trong không gian V đều có thể biểu diễn duy nhất \n",
    "  dưới dạng tổ hợp tuyến tính của các véc tơ cơ sở\n",
    "\n",
    "**4. Ý nghĩa:**\n",
    "- Xác định hệ tọa độ cho không gian véc tơ\n",
    "- Cơ sở tối thiểu để sinh ra toàn bộ không gian\n",
    "- Số véc tơ cơ sở = số chiều của không gian"
   ]
  },
  {
   "cell_type": "markdown",
   "metadata": {},
   "source": [
    "## 1.11 Biến đổi hệ cơ sở của vector\n",
    "**1. Véc tơ đơn vị trong không gian m chiều:**\n",
    "- Ký hiệu: (e₁, e₂,..., eₘ)\n",
    "- eᵢ: véc tơ có phần tử thứ i = 1, còn lại = 0\n",
    "- Ví dụ: e₁ = (1,0,0), e₂ = (0,1,0), e₃ = (0,0,1)\n",
    "\n",
    "**2. Phép nhân ma trận với véc tơ:**\n",
    "- Ma trận A ∈ ℝᵐˣⁿ, véc tơ x ∈ ℝⁿ\n",
    "- Ax = a⁽¹⁾x₁ + a⁽²⁾x₂ + ... + a⁽ᵐ⁾xₘ = y\n",
    "- Trong đó:\n",
    "  + a⁽ᵢ⁾: véc tơ cột thứ i của ma trận A\n",
    "  + xᵢ: phần tử thứ i của véc tơ x\n",
    "  + y: véc tơ kết quả biểu diễn qua các véc tơ cơ sở cột"
   ]
  },
  {
   "cell_type": "markdown",
   "metadata": {},
   "source": [
    "## 1.12 Range & Null space\n",
    "**1. Range của ma trận A ∈ ℝᵐˣⁿ:**\n",
    "- Ký hiệu: R(A)\n",
    "- Định nghĩa: R(A) = {y ∈ ℝᵐ : ∃x ∈ ℝⁿ, Ax = y}\n",
    "- Là không gian sinh (span) của các cột ma trận A\n",
    "- Số chiều = số lượng cột độc lập tuyến tính\n",
    "\n",
    "**2. Null Space của ma trận A:**\n",
    "- Ký hiệu: N(A)\n",
    "- Định nghĩa: N(A) = {x ∈ ℝⁿ : Ax = 0}\n",
    "- Là tập các véc tơ x làm cho Ax = 0\n",
    "- Khi các cột độc lập tuyến tính: N(A) = {0}\n",
    "\n",
    "**3. Mối quan hệ:**\n",
    "- R(A) và N(A) là không gian con véc tơ\n",
    "- Tính chất quan trọng: dim(R(A)) + dim(N(A)) = n\n",
    "  (với n là số cột của ma trận A)"
   ]
  },
  {
   "cell_type": "markdown",
   "metadata": {},
   "source": [
    "## 1.13 Hạng của ma trận\n",
    "**1. Định nghĩa:**\n",
    "- Ký hiệu: rank(A)\n",
    "- Là số lượng lớn nhất các cột/dòng độc lập tuyến tính\n",
    "- rank(A) = 0 khi và chỉ khi A là ma trận 0\n",
    "\n",
    "**2. Các tính chất quan trọng:**\n",
    "- rank(A) = rank(Aᵀ)\n",
    "- rank(A) ≤ min(m,n) với A ∈ ℝᵐˣⁿ\n",
    "- rank(AB) ≤ min(rank(A), rank(B))\n",
    "- rank(A + B) ≤ rank(A) + rank(B)\n",
    "\n",
    "**3. Bất đẳng thức Sylvester:**\n",
    "- Cho A ∈ ℝᵐˣⁿ, B ∈ ℝⁿˣᵏ\n",
    "- rank(A) + rank(B) - n ≤ rank(AB)\n",
    "\n",
    "**4. Ý nghĩa:**\n",
    "- Xác định số chiều của không gian sinh bởi các cột/dòng\n",
    "- Đánh giá tính độc lập tuyến tính của ma trận\n",
    "- Quan trọng trong phân tích SVD và giải hệ phương trình"
   ]
  }
 ],
 "metadata": {
  "kernelspec": {
   "display_name": "mml",
   "language": "python",
   "name": "python3"
  },
  "language_info": {
   "codemirror_mode": {
    "name": "ipython",
    "version": 3
   },
   "file_extension": ".py",
   "mimetype": "text/x-python",
   "name": "python",
   "nbconvert_exporter": "python",
   "pygments_lexer": "ipython3",
   "version": "3.10.16"
  }
 },
 "nbformat": 4,
 "nbformat_minor": 2
}
